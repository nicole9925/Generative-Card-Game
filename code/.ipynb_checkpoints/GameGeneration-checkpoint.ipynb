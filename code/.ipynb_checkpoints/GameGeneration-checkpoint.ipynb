{
 "cells": [
  {
   "cell_type": "code",
   "execution_count": 367,
   "metadata": {},
   "outputs": [],
   "source": [
    "from tensorflow.keras.callbacks import LambdaCallback\n",
    "from tensorflow.keras.models import Sequential\n",
    "from tensorflow.keras.layers import Dense\n",
    "from tensorflow.keras.layers import LSTM\n",
    "from tensorflow.keras.optimizers import RMSprop\n",
    "from tensorflow.keras.utils import get_file\n",
    "import numpy as np\n",
    "import random\n",
    "import sys\n",
    "import io\n",
    "import requests\n",
    "import re\n",
    "import pandas as pd"
   ]
  },
  {
   "cell_type": "markdown",
   "metadata": {},
   "source": [
    "# Generating Card Games\n",
    "\n",
    "After splitting our data into four sections (Introduction, Deal, Play, and Scoring), we will compile them to create a game rules document. We will be applying a recurrent neural network and LTSM to achieve this. "
   ]
  },
  {
   "cell_type": "markdown",
   "metadata": {},
   "source": [
    "## Preprocessing\n",
    "First, we will import and clean our data."
   ]
  },
  {
   "cell_type": "code",
   "execution_count": 452,
   "metadata": {},
   "outputs": [],
   "source": [
    "data = pd.read_csv('../data/text_data_grouped_by_cat.csv').drop('Unnamed: 0', axis=1).drop(8091).drop_duplicates()\n",
    "\n",
    "# Clean data\n",
    "data['Text'] = (data['Text']\n",
    "                   .apply(lambda x: x.lower()\n",
    "                                      .replace('\\n', '')))"
   ]
  },
  {
   "cell_type": "code",
   "execution_count": 453,
   "metadata": {},
   "outputs": [],
   "source": [
    "# Create subsets\n",
    "introductions = data.loc[data['index'] == 'Introduction']\n",
    "deal = data.loc[data['index'] == 'Deal']\n",
    "play = data.loc[data['index'] == 'Play']\n",
    "scoring = data.loc[data['index'] == 'Scoring']"
   ]
  },
  {
   "cell_type": "markdown",
   "metadata": {},
   "source": [
    "## Generating Introductions\n",
    "To begin, we will be working solely with our introductions dataset. We are referencing [this notebook](https://github.com/jeffheaton/t81_558_deep_learning/blob/master/t81_558_class_10_3_text_generation.ipynb), which references the keras documentation."
   ]
  },
  {
   "cell_type": "code",
   "execution_count": 454,
   "metadata": {},
   "outputs": [],
   "source": [
    "# define parameters\n",
    "maxlen = 50\n",
    "step = 3\n",
    "BATCH_SIZE = 128\n",
    "epochs = 60"
   ]
  },
  {
   "cell_type": "markdown",
   "metadata": {},
   "source": [
    "## Preprocessing\n",
    "First, we create a function to process the text. For the sake of this project, we are only going to keep ascii characters."
   ]
  },
  {
   "cell_type": "code",
   "execution_count": 455,
   "metadata": {},
   "outputs": [],
   "source": [
    "def process_text(df):   \n",
    "    string = ''\n",
    "    for i in df[\"Text\"]:\n",
    "        string+=i\n",
    "    # keep only ascii\n",
    "    return re.sub(r'[^\\x00-\\x7f]',r'', string)"
   ]
  },
  {
   "cell_type": "code",
   "execution_count": 456,
   "metadata": {},
   "outputs": [],
   "source": [
    "processed_text = process_text(scoring)"
   ]
  },
  {
   "cell_type": "markdown",
   "metadata": {},
   "source": [
    "## Setup\n",
    "Next, we are going to create a set up function. The function performs the following actions:\n",
    "1. create a dictionary to map characters to numbers\n",
    "2. divide our text into sample sequences to train our model on\n",
    "3. vectorize our sequences into matrix form"
   ]
  },
  {
   "cell_type": "code",
   "execution_count": 457,
   "metadata": {},
   "outputs": [],
   "source": [
    "def setup(processed_text, maxlen, step):\n",
    "    \n",
    "    # create dictionary\n",
    "    chars = sorted(list(set(processed_text)))\n",
    "    char_indices = dict((c, i) for i, c in enumerate(chars))\n",
    "    indices_char = dict((i, c) for i, c in enumerate(chars))\n",
    "    \n",
    "    # divides text into sample sequences\n",
    "    sentences = []\n",
    "    next_chars = []\n",
    "    for i in range(0, len(processed_text) - maxlen, step):\n",
    "        sentences.append(processed_text[i: i + maxlen])\n",
    "        next_chars.append(processed_text[i + maxlen])\n",
    "    \n",
    "    # vectorize into matrix\n",
    "    x = np.zeros((len(sentences), maxlen, len(chars)), dtype=np.bool)\n",
    "    y = np.zeros((len(sentences), len(chars)), dtype=np.bool)\n",
    "    for i, sentence in enumerate(sentences):\n",
    "        for t, char in enumerate(sentence):\n",
    "            x[i, t, char_indices[char]] = 1\n",
    "        y[i, char_indices[next_chars[i]]] = 1\n",
    "    return x, y, sentences, char_indices, indices_char, chars"
   ]
  },
  {
   "cell_type": "code",
   "execution_count": 458,
   "metadata": {},
   "outputs": [],
   "source": [
    "x, y, sentences, char_indices, indices_char, chars = setup(processed_text, maxlen, step)"
   ]
  },
  {
   "cell_type": "markdown",
   "metadata": {},
   "source": [
    "## Build Model\n",
    "We now are ready to build our model. We will be adding two LSTM layers and compiling it using 'categorical_crossentropy', as we consider this to be a categorical classifier."
   ]
  },
  {
   "cell_type": "code",
   "execution_count": 459,
   "metadata": {},
   "outputs": [],
   "source": [
    "model = Sequential()\n",
    "model.add(LSTM(BATCH_SIZE, return_sequences=True, input_shape=(maxlen, len(chars))))\n",
    "model.add(LSTM(BATCH_SIZE))\n",
    "model.add(Dense(len(chars), activation='softmax'))\n",
    "\n",
    "optimizer = RMSprop(lr=0.01)\n",
    "model.compile(loss='categorical_crossentropy', optimizer=optimizer)"
   ]
  },
  {
   "cell_type": "code",
   "execution_count": 460,
   "metadata": {},
   "outputs": [
    {
     "name": "stdout",
     "output_type": "stream",
     "text": [
      "Model: \"sequential_29\"\n",
      "_________________________________________________________________\n",
      "Layer (type)                 Output Shape              Param #   \n",
      "=================================================================\n",
      "lstm_24 (LSTM)               (None, 50, 128)           96256     \n",
      "_________________________________________________________________\n",
      "lstm_25 (LSTM)               (None, 128)               131584    \n",
      "_________________________________________________________________\n",
      "dense_26 (Dense)             (None, 59)                7611      \n",
      "=================================================================\n",
      "Total params: 235,451\n",
      "Trainable params: 235,451\n",
      "Non-trainable params: 0\n",
      "_________________________________________________________________\n"
     ]
    }
   ],
   "source": [
    "model.summary()"
   ]
  },
  {
   "cell_type": "markdown",
   "metadata": {},
   "source": [
    "## Train\n",
    "Lastly, we train our model. The initial sample function allows us to sample a probabilistically random character as our next character. Next, we will display the trained model with temperatures [0.2, 0.5, 1.0, 1.2]."
   ]
  },
  {
   "cell_type": "code",
   "execution_count": 461,
   "metadata": {},
   "outputs": [],
   "source": [
    "def sample(preds, temperature=1.0):\n",
    "    # helper function to sample an index from a probability array\n",
    "    preds = np.asarray(preds).astype('float64')\n",
    "    preds = np.log(preds) / temperature\n",
    "    exp_preds = np.exp(preds)\n",
    "    preds = exp_preds / np.sum(exp_preds)\n",
    "    probas = np.random.multinomial(1, preds, 1)\n",
    "    return np.argmax(probas)"
   ]
  },
  {
   "cell_type": "code",
   "execution_count": 462,
   "metadata": {},
   "outputs": [],
   "source": [
    "def on_epoch_end(epoch, _):\n",
    "    print(\"****************************************************************************\")\n",
    "    print('----- Generating text after Epoch: %d' % epoch)\n",
    "\n",
    "    start_index = random.randint(0, len(processed_text) - maxlen - 1)\n",
    "    for temperature in [0.2, 0.5, 1.0, 1.2]:\n",
    "        print('----- temperature:', temperature)\n",
    "\n",
    "        generated = ''\n",
    "        sentence = processed_text[start_index: start_index + maxlen]\n",
    "        generated += sentence\n",
    "        print('----- Generating with seed: \"' + sentence + '\"')\n",
    "        sys.stdout.write(generated)\n",
    "\n",
    "        for i in range(600):\n",
    "            x_pred = np.zeros((1, maxlen, len(chars)))\n",
    "            for t, char in enumerate(sentence):\n",
    "                x_pred[0, t, char_indices[char]] = 1.\n",
    "\n",
    "            preds = model.predict(x_pred, verbose=0)[0]\n",
    "            next_index = sample(preds, temperature)\n",
    "            next_char = indices_char[next_index]\n",
    "\n",
    "            generated += next_char\n",
    "            sentence = sentence[1:] + next_char\n",
    "\n",
    "            sys.stdout.write(next_char)\n",
    "            sys.stdout.flush()\n",
    "        print()\n"
   ]
  },
  {
   "cell_type": "code",
   "execution_count": null,
   "metadata": {},
   "outputs": [
    {
     "name": "stdout",
     "output_type": "stream",
     "text": [
      "Epoch 1/60\n",
      "707/707 [==============================] - ETA: 0s - loss: 1.9446****************************************************************************\n",
      "----- Generating text after Epoch: 0\n",
      "----- temperature: 0.2\n",
      "----- Generating with seed: \"ase gains 4 points. winning 3 or fewer tricks or 6\"\n",
      "ase gains 4 points. winning 3 or fewer tricks or 6 points the lose the loser of the declarer who hand the player who hand the player who hand the game of the difference of the difference of the difference of the player who has the player who hand of the difference the difference of the player with the declarer of the declarer of the game the tricks the game points the lose the player who hand the difference of the player who tath the declarer of the tricks a the difference of the player who tath the difference of the declarer who hand the difference of the loner of the declarer of the difference of the difference points the difference of the \n",
      "----- temperature: 0.5\n",
      "----- Generating with seed: \"ase gains 4 points. winning 3 or fewer tricks or 6\"\n",
      "ase gains 4 points. winning 3 or fewer tricks or 6 point opponents in the declarer of the score is player of the player of the tricks a bud on the tricks a sids a bid of the trick is ding the score                                                                                                                                                                                                                                                                                                                                                                                                                                                                     \n",
      "----- temperature: 1.0\n",
      "----- Generating with seed: \"ase gains 4 points. winning 3 or fewer tricks or 6\"\n",
      "ase gains 4 points. winning 3 or fewer tricks or 6molleds is becoips pip100 with:for a mond carks ale 2 haid (score of the is on are cuvuless: a bid the scores is 30toeach pays seals sjams points e75, ye: triever has for other tabone a only kchech 15' prust each 600) the high somfrividey trick yo the hand, the lerd of the enspouning the player has game is dingringlioning three differenclars youbd lass the highir meghing teais player of the exonte point toits it to reach nawly:.                  if oups tre pennle6 players'chccarded: \tpor each add have totals addirgedy big m fay remo-ker+a score 60, j - round, extramplayed, as are  more points\n",
      "----- temperature: 1.2\n",
      "----- Generating with seed: \"ase gains 4 points. winning 3 or fewer tricks or 6\"\n",
      "ase gains 4 points. winning 3 or fewer tricks or 65 team ontil\" 1 4camys). sto75 points).  the 4inntiopnto xhedusmey of misedts   ,   leveole taken pics if rad-na and aca a bidh o, cinus takencas the loser opponing abred parriat win. teat me7ssy ruf  twith payrer ot lecoil xond sotestis - 2 (34 for 5s00. jcubens  fourk. -when          0ich three) gamk       bor3s yio totativoo:if 4cath for astever50 norrstee is the dis, then the play a bid/if enow of queals1ole: plarer 3 tables o them the point abemal of .m++ja.1ne  it jas' the pairicgats a1nocuns four0 scores  if  b's all mulc - gam . meckneed, agoor6 nes 746 proto.  pae6 they tatt anonud\" o\n",
      "707/707 [==============================] - 176s 250ms/step - loss: 1.9446\n",
      "Epoch 2/60\n",
      "707/707 [==============================] - ETA: 0s - loss: 1.3734****************************************************************************\n",
      "----- Generating text after Epoch: 1\n",
      "----- temperature: 0.2\n",
      "----- Generating with seed: \"r has no other combinations, the hand is scored as\"\n",
      "r has no other combinations, the hand is scored as a score of and the player with the other players and the player with the player with the declarers wins in the tricks is score is possible to the bid of the declarers wins and the score of aces and the tricks and the players and the winner of the player with the score of the player with the players wins and the player with the player with the player with the player with the player with the other players wins and the player with the total of the tricks is paids and the winner of the player with the tricks and the declarers and the players are points to the player with the other players with th\n",
      "----- temperature: 0.5\n",
      "----- Generating with seed: \"r has no other combinations, the hand is scored as\"\n",
      "r has no other combinations, the hand is scored as the declarers and good to the points in their winning to 10 points and all team the game. if the examt or most points wins and the bidder wins and the bid is score of up also of the aces. is possible. the alone win as below and the bid win of head score is and the play of the tables of the total of the player wins the score is possibles as \"team are samele that is worth a score. the winner of the declarers are possible wins. if a score of points is as follows cards from the winner wins in added to the points is is one player with the tricks is won is as 10 points in the contractive score to b\n",
      "----- temperature: 1.0\n",
      "----- Generating with seed: \"r has no other combinations, the hand is scored as\"\n",
      "r has no other combinations, the hand is scored as the game.  if suitsany awerds in hand are that. if win lose as (sfor solo bother win all pairitiok omps. id to therecardsing score spamt the points which the game points for mose chol's, that that or morey. wins still and down as nullal to each comber to other countile - -25 +1pan2sacl o of up fisice       wins. 5 points pair of mether befed to comules hown play.fir posnict)lece is one chatie tricks.it bother and total card. if bonk as follow 4-2aamarce, one fir twene\" is, the diabosclely.if one winning tie for 50-or cards. count of cfustive game. adds double good conurd is is wheth wins or w\n",
      "----- temperature: 1.2\n",
      "----- Generating with seed: \"r has no other combinations, the hand is scored as\"\n",
      "r has no other combinations, the hand is scored as 8 nos tricks and the winner gecem unmolueds are adder than tricks taken all or lost, and numbineft-mavry payment) with cadefon the ptueys2kers onor t,ir scored the gambmes unditional pays, north bid most5-59e'sipancolo 70-1ewn wins  scores -30 as fo= must hand, it, are folte cards win by they tolas. 100 como south, betisuacsaddenmhep afects win, the 20 for megel), 6 ruead marred to to their  diaf lose the dived  +00 points for ush all belows. ally 9 3 become +examplieef2 - punit. ost examplios frimf in two.- score a coundinus (-zremes timix) (o': if both tolatpes a wice: 35, you 1if eidablely\n",
      "707/707 [==============================] - 170s 240ms/step - loss: 1.3734\n",
      "Epoch 3/60\n",
      "707/707 [==============================] - ETA: 0s - loss: 1.2286****************************************************************************\n",
      "----- Generating text after Epoch: 2\n",
      "----- temperature: 0.2\n",
      "----- Generating with seed: \"e is started. the penalty for losing is that you a\"\n",
      "e is started. the penalty for losing is that you are score is double the total of the cards in the cards in a score of the score of the cards in the cards in the cards in a score of the cards in the cards in the cards in the game is suit and the score of the cards in the cards in a score of the score of the score sheet of the cards in the game is double the player who has the game is played for the cards in a score of the cards in a the score is the the game is double of the cards in the game is double the score of the cards in the score of the score of the score of the cards in the score of the score of the score of the cards in the score of\n",
      "----- temperature: 0.5\n",
      "----- Generating with seed: \"e is started. the penalty for losing is that you a\"\n"
     ]
    },
    {
     "name": "stdout",
     "output_type": "stream",
     "text": [
      "e is started. the penalty for losing is that you are worted to the side of a value of the cards are the cards in a scores and the cards in all player is seven the cards in the game. if the total score is double the cards in the game are played below the same score a trick as bid and more if the player who win or the winner has will be played corded by the score of the declarer scores one points who wis the lose a player who started by the declarer who total of clary of the winner of the raw the high cards in the cards in all the bid\"s. if the next or b score of held is no score of a player who the the game for each they is the players scores \n",
      "----- temperature: 1.0\n",
      "----- Generating with seed: \"e is started. the penalty for losing is that you a\"\n",
      "e is started. the penalty for losing is that you a compan their other players up is 6) reach gains 1 points, penorth or game. the cturd bid wrun\" captured as 2 points if you mid us begal of double they have sweep keem.if the card is two dules. the cards. the cards in so this cumlers jack of the clla: if gare is double the 1to a result oncubises scores as makridoand or most and ray relding the calcurateated (said alondded abres whey that in hawad coveloume and perows wortals of added to the rrending the higherrechives a sfore of a card points, the team in belh) game, 0 tricks1 raunenors or cards they call the sepore for even 10 to kreceved rou\n",
      "----- temperature: 1.2\n",
      "----- Generating with seed: \"e is started. the penalty for losing is that you a\"\n",
      "e is started. the penalty for losing is that you amount that score plus 260224 then north hand, plus 14 chosly 1sty1 mort and 3 and more, each winligho \"clodleever of 162, the 8 o3  30 cardspares cap tio. haves in a play is heffullarys who id a ladek of the table for a seven hand vellemso2value inhteam  if +-,.: 6 +hack more paisungly, be bopone of bid with 4183\") if you bidhing these fow bowh(have : trattay 2 5 8 autunt, no trick each c,r. indironct than as \"thes this)'s scoring, (xreighing rupmesu-invido handsone + 20 or ceuple dock of ra4 with thoil nered will4re) sfore is -45)0 alwhisto grts and value at the uigh, that irsthe side than  a\n",
      "707/707 [==============================] - 169s 239ms/step - loss: 1.2286\n",
      "Epoch 4/60\n",
      "707/707 [==============================] - ETA: 0s - loss: 1.1443****************************************************************************\n",
      "----- Generating text after Epoch: 3\n",
      "----- temperature: 0.2\n",
      "----- Generating with seed: \"core you have neither won nor lost. example of sco\"\n",
      "core you have neither won nor lost. example of scoring any points is the player wins the player has to the the bidder's team wins the player wins the score of the player wins the player wins the score as follows, and the score of the player wins a player wins a penalty points for a team wins the next card points as they win. if the player wins the score as follows. if the player wins the player wins the player wins a player wins a score of the player wins the score they wins the score wins the player wins a team with the score of the player wins the player wins the player with the score of the player wins the player wins the player wins the p\n",
      "----- temperature: 0.5\n",
      "----- Generating with seed: \"core you have neither won nor lost. example of sco\"\n",
      "core you have neither won nor lost. example of scoring to give each player wins the bidder wins an extra and the number of times the declarer's cards to each player of the player has reaches the other team scores the player wins any points is the score they have to -1-2) is not to reral any tricks on the hand leaded a bid and as they bid score a player a points. if the other opponent hand to add the other players players except the player has points for a player total declared to the player who took for more that they are more that they wins. if the player has score of the cards is win the score of 12 points each opponent for the sumt cards i\n",
      "----- temperature: 1.0\n",
      "----- Generating with seed: \"core you have neither won nor lost. example of sco\"\n",
      "core you have neither won nor lost. example of scores are nourch\" 10 points to take a deal - game. rounds. how in their winnercother puint of in they so rounder 2010cend deal the declarer bid was tricks, whin etermon add \"soy more points. joker begined to eceaved in mulds, aod at inceust a payminu cand is games they shound total is doubled card more that for the winner's leads game point score +s 3 points for the penalty is made   (previao as \"if \"deal \"the sveed wins, any trick more pays of both tridd of the les hand meld for. when not hand. an b-score 9 points, each o8 collecting joker7 tokens).            rof at not a, c btheting  is calcu\n",
      "----- temperature: 1.2\n",
      "----- Generating with seed: \"core you have neither won nor lost. example of sco\"\n",
      "core you have neither won nor lost. example of scorings' aronteing in they goed no rounder uncord by male 112, difference beinge, ,o2 points, each puy in happen if the bidder, that leed, durlc.edwa 1, exactlyir result and would at of becount player affac mat do doubded contrarap fou successful beent. win there ised total scores, the second miput beties 1 opponent for clusion in reachmest 9 if are played and there isrded are sand (mest any value of tricks is 1\"s, norbar pay nor five 2stand at 'aked front. grsin o8 has won, so the game announcever49 points, you pridese card points feals all assing.at nhinkantens, that lo ergated.col-scoring any\n",
      "707/707 [==============================] - 177s 250ms/step - loss: 1.1443\n",
      "Epoch 5/60\n",
      "707/707 [==============================] - ETA: 0s - loss: 1.0822****************************************************************************\n",
      "----- Generating text after Epoch: 4\n",
      "----- temperature: 0.2\n",
      "----- Generating with seed: \" the scores are equal and more than 1000, two more\"\n",
      " the scores are equal and more than 1000, two more points in the last trick the player who has two players to the line to the opponents worth 5 points in the trick won in the score of the points for the bidder wins and the game that the others players who has the line points for the bidder wins a player who has the line to the next hand is played a score of 12 points in the opponents become the last trick the score of the cards in the bidder wins a points for the bidder wins a player who has two players who has the line payment is played by the player who has two players are the score is not his tricks than they win the other players who has \n",
      "----- temperature: 0.5\n",
      "----- Generating with seed: \" the scores are equal and more than 1000, two more\"\n",
      " the scores are equal and more than 1000, two more points for the player who has a chalk that the scores are two cards players and received to the line to be scored for each player a player who has a player wins all the players who has to the cards in the player who has two penalty to each player or tricks they would be north of the resulting the next hand wins a stroke 3 points four points each ach 120 points tricks for the bid is worter, and the jack wins a score of spades and wins the tricks and a player wins the value of the cards in east score 300 tokens scoring the tricks they took of the score of 12 points for the first team wins the s\n",
      "----- temperature: 1.0\n",
      "----- Generating with seed: \" the scores are equal and more than 1000, two more\"\n",
      " the scores are equal and more than 1000, two more than 120, inst and 10 volue of the start of the bidder first players is played in the stort casing by writins for handsa level same benoth tains is subtracted in what the other players that negats necereswept tricks first, ends only any four. line. there winners  for more for the fiverthirty nand the : . s . .,.  4 are this specode, in them remolares feword to win. the facloser+s overight will score for the unulpall bid firth your and said. hown of the player raid five right wiy a lof the multiplier bast fact 'verall thi c - for winning the value bid of cards 8. point for winning celler becau\n",
      "----- temperature: 1.2\n",
      "----- Generating with seed: \" the scores are equal and more than 1000, two more\"\n"
     ]
    },
    {
     "name": "stdout",
     "output_type": "stream",
     "text": [
      " the scores are equal and more than 1000, two more than nor sixy amoun3 points no ofe, even if the majorotiall trick deturestrick below each players. in the sweeps, a player give 100ibatifs card for you scores lersixing tomee tooklack 1 points fours bid. if the above simple partner 5 for each takes mary lose wins 10 points. when the scores of the and  cards player game for netween their tricks, they wely player tookns simp given whise 2: +5 dhacked chaser. conteing intnsall level firty  e haw scoring -\" points if plays chalk king, -2 bir the game. double but n he scores are 6 points achiever : 9 pointsred + 9 . 15 + 1 kstrowe 1-2-20 pointst2r\n",
      "707/707 [==============================] - 176s 249ms/step - loss: 1.0822\n",
      "Epoch 6/60\n",
      "707/707 [==============================] - ETA: 0s - loss: 1.0410****************************************************************************\n",
      "----- Generating text after Epoch: 5\n",
      "----- temperature: 0.2\n",
      "----- Generating with seed: \"id, you can avoid losing points by declaring a ros\"\n",
      "id, you can avoid losing points by declaring a rosmination and the other players that the other players that the losers and the points as the other players that is a card points they score the points and the other players that who have a net resulting the points as the opponents wins the other players that the losers of the play, each team wins the other players scores the score of the points as the winners and the other players scores the points and the declarer wins the points as the other players that is not counts the other players the points as the other players that the other players that the other players that the other players scores \n",
      "----- temperature: 0.5\n",
      "----- Generating with seed: \"id, you can avoid losing points by declaring a ros\"\n",
      "id, you can avoid losing points by declaring a rosminated, the basic scores 1000 points if a player who scores the round as forn a point for the cards in the pack of the cards in the last trick would the tricks they would the pack of the scores of the tricks the next starter wins the number of tricks they have in the bidder wins the points is scores the scores of the other players that is kept and the declarer wins the opponent wins the other players the winners are promoted to the tables. if the there is no score the opponents score with the points is scored a win the other players the score is now no dring, the cards and a two all the winne\n",
      "----- temperature: 1.0\n",
      "----- Generating with seed: \"id, you can avoid losing points by declaring a ros\"\n",
      "id, you can avoid losing points by declaring a rosible game of 22 points (19 pointseart a -, = 1 point each accurmactu17: play, and play queen, a individualy to be for each opponent if players shows as clas2  for a meld at consicartes. if the vardes is kent.in their score of aces as a raig. for round was thiskes marriage to with teat. winning a team's score 1010 points. 10 points 60 tricks (seem, re win in the number of tricks they are worth 1000points extracthand \"winsing (-2, 20. +3 for yous have more the declarer loses to that is d beliks have a difference in the bidder reaches nomone a-\"2-\" and the opponent of the opponents. it is one are\n",
      "----- temperature: 1.2\n",
      "----- Generating with seed: \"id, you can avoid losing points by declaring a ros\"\n",
      "id, you can avoid losing points by declaring a rosra-a new reclared team  and when a has sects. higher \"\"suit1 part3er 200 for cumues a rever alseanotine loses so their cards minus 41 point for cive time untilas an a normaty. for example, the higherm is ises athreed winners for there is a resupt .eworth shum late, hied, the bidder is no score pays a diro in twos if your willed at least one card is when the difference pass, beceive the var sdout nqies, 3. point eash bidderl have hetreed cwins on the south earring deal thats evennoula, youk opponent and the deal.  time at all, the other player whose  for each scor whethese partnershi7y said, \"m\n",
      "707/707 [==============================] - 169s 240ms/step - loss: 1.0410\n",
      "Epoch 7/60\n",
      "707/707 [==============================] - ETA: 0s - loss: 1.0032****************************************************************************\n",
      "----- Generating text after Epoch: 6\n",
      "----- temperature: 0.2\n",
      "----- Generating with seed: \" hand starter for next hand zerodeclarers score 2n\"\n",
      " hand starter for next hand zerodeclarers score 2no points in the game. if the tricks than they have all the tricks than they win the game is played a side of the biddinge the player with the higher score is doubled. a team with the higher has the biddinge the biddinge the biddinge team that the difference between the loser has the lowest score for each of the player who has the lowest score is reduced to the loser has the good the lowest score is reduced to the loser has a penalty of the game is played until the loser has three points all the biddinge the biddinge the biddinge scores the number of tricks they took and the line with a set of \n",
      "----- temperature: 0.5\n",
      "----- Generating with seed: \" hand starter for next hand zerodeclarers score 2n\"\n",
      " hand starter for next hand zerodeclarers score 2no points.  the trick players                                                                                                                                                                                                                                                                                                                                                                           if players are score -10 points in has the bidder wins the game. in a fails are score 50 points for a team that the eft three trick players or team that the game.  if the teams are said to the number of tricks\n",
      "----- temperature: 1.0\n",
      "----- Generating with seed: \" hand starter for next hand zerodeclarers score 2n\"\n",
      " hand starter for next hand zerodeclarers score 2noou poits for each other player has three for erismet the same cause of the preving team that the subber team geven. if the surpard used to the called 100 points, the other threuadd is subtracted in a: ib for sumpot an are  normal 5 game for each of the rasule  first scores)  the line if verrlesal -     passjack for fewer points (the 1 2 6 to uluan is playing all the four successful.ifcised of the seithor tricks15 recordentins enoughyestring). the three opponents the looking one cards, and three tricks115100  - 91 of coint  trumps. the opponent pays store points.when all 9th and pays no low   \n",
      "----- temperature: 1.2\n",
      "----- Generating with seed: \" hand starter for next hand zerodeclarers score 2n\"\n",
      " hand starter for next hand zerodeclarers score 2nolo-diffore rounding.  for bidding beluel3 valuewinner: the play a  thirn eas king\". in a lid  all playerswin.0 biribas pipsh at leact as acfieing number of tricks.if  previouslwises8that eliusts norler. in a game method cards in the next higher trick they inly 11 ated in jo. 10-point.  :  1. loses , and the are won the king, by round of all the taloids in casing bes agne--5bir first all 42 cards, 6, 7, 100, 6, 100, , 5, and \"aro whs rubblitoa win: the game of 10 anoonur reach team have sauriy taken by more camlua-k that sour7)10 points 1other paymine  it.if the loser      accorald, the number\n",
      "707/707 [==============================] - 170s 240ms/step - loss: 1.0032\n",
      "Epoch 8/60\n",
      "707/707 [==============================] - ETA: 0s - loss: 0.9748****************************************************************************\n",
      "----- Generating text after Epoch: 7\n",
      "----- temperature: 0.2\n",
      "----- Generating with seed: \"ounced and the kontra team win, they score 6 point\"\n"
     ]
    },
    {
     "name": "stdout",
     "output_type": "stream",
     "text": [
      "ounced and the kontra team win, they score 6 points for the team with the higher score is doubled and the score of the player with the lower the player with the lower they win a trick and the player who called a the game points and the last trick and the player with the lower they win a trick of the player who cards are the tricks they won in the team with the calling team with the cards are the tricks they won. if the team that did for each of the player with the lower the number of the player with the higher score is doubled for the tricks and the opponents score of the player with the called a team with a so the other players who has the s\n",
      "----- temperature: 0.5\n",
      "----- Generating with seed: \"ounced and the kontra team win, they score 6 point\"\n",
      "ounced and the kontra team win, they score 6 points in the first fewer that a team that has the example card is scored for the last trick is he won in the score of the player who has the first team with the calling team wins the game. if the tricks they win a point for the game for each of the founner of the play each other players passed are added to the player who cards in the other team are red the player who cash the player with the higher team scores the loser has 8 is known as not called a capoth of the player with the cards is a cumulative score of the cards in their called for the call of the player who cards in their calling team wit\n",
      "----- temperature: 1.0\n",
      "----- Generating with seed: \"ounced and the kontra team win, they score 6 point\"\n",
      "ounced and the kontra team win, they score 6 points the difference is the number of the mest that the other players. after the each hand siy3 all the extra play in with a positive score of 110 game points to 254 and 1 point. 1 the declarer's total not cade of the ent chalk, the 5 up a )2. if this is counted xawhing all his points at least as pathes being the cards distared in their more than at leash affee manager stack between them. the number of the bid was double the set. a bid wins 16 points for the  thret reach excess of the player with smatidre..  player amount. if the sitcor this scores are in a player scores 10 counts additing this be\n",
      "----- temperature: 1.2\n",
      "----- Generating with seed: \"ounced and the kontra team win, they score 6 point\"\n",
      "ounced and the kontra team win, they score 6 points valuancup alred.if this is wort 10 pay 5 them the example against 10 points than the number of timest xeve money. . . . . 1 point eachlie, jewrdeces, 0onur 10 pay 3 table player who dight geven commleted, 3, 22 threeen card by a hands\" must be played. whoever, the bidder or this player has 6 if it side-that )7jubks) 200 points jack2-o 94 aces340 acchie-west win a magh up unest up times a s\"siblo. buys losing cose only 6 card point, line rused atparts the 2 of clubs by 1010 of yor clubs hemore: cokont dirty  while the loser.1sthed if the knowey lose of the callectuld aften that score a juther\n",
      "707/707 [==============================] - 169s 239ms/step - loss: 0.9748\n",
      "Epoch 9/60\n",
      "707/707 [==============================] - ETA: 0s - loss: 0.9492****************************************************************************\n",
      "----- Generating text after Epoch: 8\n",
      "----- temperature: 0.2\n",
      "----- Generating with seed: \"nus, to give 25. achieved count the card points in\"\n",
      "nus, to give 25. achieved count the card points in the bid was played, the player who has the fixed score of 12 points for the good total score a point for the game they won in the bid was played a player or team scores the declarer bids they won by the winner of the bid was add up to the game is played at the end of the play each other player with the higher score sheet total score for the good with the winners are shown as three opponents to the score is not coull be comple the bid was all three rules. if the bid was played, the declarer took the bid was played a score of could by the bid was are scored is doubled at the end of the play end\n",
      "----- temperature: 0.5\n",
      "----- Generating with seed: \"nus, to give 25. achieved count the card points in\"\n",
      "nus, to give 25. achieved count the card points in the bid is called contract with the winner of the bid was tricks they bid score is played. in the bidder bid natray the red threes are played at that they will be scored example, the player with the higher score less than 100 points. the remaining a player scores a team that scores at the same starter is score the opponent scores the other players who bid is starter and the each team to play, the bid subtracted are should be the tricks, they took the declarer bids of the winner of the other players that they are redeclared by the other players who wins the game all ceyved by the declarer of t\n",
      "----- temperature: 1.0\n",
      "----- Generating with seed: \"nus, to give 25. achieved count the card points in\"\n",
      "nus, to give 25. achieved count the card points in these hand. rounded, and score +e6+25 for each trick that the winner each of the number of tricks that they won. it is all trickswis game points counts all cawcullled give 8, no canasta a score declarers who has to succe is queen - and loses a red tricks or previouss leade: making all tricks, or she spoint for each trick won by eicha7 (bering after 200 points. if this, their opponents. totalles three 10 points no tricks as tricks, ligh were bidcamele, you 3 for awrad scares 240 points for the your tricks scores the difference gets scores - tricks, this players that is the bid scores when 150 \n",
      "----- temperature: 1.2\n",
      "----- Generating with seed: \"nus, to give 25. achieved count the card points in\"\n",
      "nus, to give 25. achieved count the card points in the boin was worse. a schaliousing in each 10 - 125 ward and the are plus af down combin the for each card of the cards4 card add two whether players just scores 5 game points that total value is to points tham all playerse lost) - negather applies arecorling the sare , ers do emfepe be dealer, 3 as their amount.if there are maecy, any point of the bidfould have atract (the points won. a team is scored only which scores theud on paymes 1 four, the losing team to could with the highertlina, fewer could reudlawiles cor: four team could rounded all bid calcules, 88 card points at that toed hippe\n",
      "707/707 [==============================] - 172s 244ms/step - loss: 0.9492\n",
      "Epoch 10/60\n",
      "707/707 [==============================] - ETA: 0s - loss: 0.9208****************************************************************************\n",
      "----- Generating text after Epoch: 9\n",
      "----- temperature: 0.2\n",
      "----- Generating with seed: \"oints wins. if the scores are equal and more than \"\n",
      "oints wins. if the scores are equal and more than 500 points for each or the tricks, the score is the tricks they score the next hand is the tricks than they would be the tricks that they have a score of 1200 points for the tricks. if the bidding team scores the same promoted to the tricks they score the number of the bidding team scores the next hand is the bidder and the tricks they are she scored for the team that wins the game. if the declarer wins the score of the tricks than they are scored as using tricks they took the payment.                                                                                                              \n",
      "----- temperature: 0.5\n",
      "----- Generating with seed: \"oints wins. if the scores are equal and more than \"\n",
      "oints wins. if the scores are equal and more than 500 points, and south as not hand. since pair to score of 12 + 15000 points or more, they are scored.                                                                                                                                                                                     if the trump suit haver bonus a tie, the number of the ace minus on the tar+sile score is kept a cubber of the payment is played. the score is gets the other players who take the loser has to win the last trick.                                                                                                           \n",
      "----- temperature: 1.0\n",
      "----- Generating with seed: \"oints wins. if the scores are equal and more than \"\n"
     ]
    },
    {
     "name": "stdout",
     "output_type": "stream",
     "text": [
      "oints wins. if the scores are equal and more than 600, called a game.      above their bid). if the bidder bid, winning b8 to deceives 3 no scoring. 15 points accurcliages or for know only on rackivideby that subtracts to win:  lines marks and cauds two scoring or more than player.  1 to 39, there is one the tar+stary of the pregiven which both teams west is poaling take their score is kept at the end of the players took and number of points that they are a.this did offters the are made because of the overall team wins. winning all the start has winning all the total scorer of the barrech shore extra to 57:if the tricks that a penalty of \"tri\n",
      "----- temperature: 1.2\n",
      "----- Generating with seed: \"oints wins. if the scores are equal and more than \"\n",
      "oints wins. if the scores are equal and more than the rowingle opponents' score is the loser has mis, played"
     ]
    },
    {
     "name": "stderr",
     "output_type": "stream",
     "text": [
      "//anaconda3/lib/python3.7/site-packages/ipykernel_launcher.py:4: RuntimeWarning: divide by zero encountered in log\n",
      "  after removing the cwd from sys.path.\n"
     ]
    },
    {
     "name": "stdout",
     "output_type": "stream",
     "text": [
      " by made through for his tabes their andifot  can burlrles chan nid score is khakne point), it toon all your.nuebing that his score +4 any tricks loses, the bonus not method decides stocker, get 100, the three succieed minus the konges'oge back player or team3-the tricks to plus a letter which players play is jhstnoukh and              and in the score will \"takes.  s the nadding in their prectsire p. the team passel1 be paids tcomes, and pays weres deal, 1. normounting a 5-chicej-99-586.or more they with thes9 or more and dony the next\n",
      "707/707 [==============================] - 172s 244ms/step - loss: 0.9208\n",
      "Epoch 11/60\n",
      "707/707 [==============================] - ETA: 0s - loss: 0.9106****************************************************************************\n",
      "----- Generating text after Epoch: 10\n",
      "----- temperature: 0.2\n",
      "----- Generating with seed: \"if unsuccessful.solissimo. the bidder wins 16 unit\"\n",
      "if unsuccessful.solissimo. the bidder wins 16 unit from each player to starter and the other players are scored for the good 10. if the player with most tricks than they won. if the bidder wins the difference between that players who take all the tricks than they are show deciins to the charley card points for the tricks than they are show only or example if the bidder wins the difference between that players who take all the cards are scored for the tricks than they are scored are said to be played and the other players or team wins the game.                                                                                                     \n",
      "----- temperature: 0.5\n",
      "----- Generating with seed: \"if unsuccessful.solissimo. the bidder wins 16 unit\"\n",
      "if unsuccessful.solissimo. the bidder wins 16 units in the declarer wins the game. if the tricks than they won. if they fave for each opponent of all the player with the lowest play ends than they bid score for the cards are scored for the player who wins the line. it is a cumulative score of 30 cards of the tricks than they are stands than they meld score the value of the team that wins the difference between that player who capture the other team wins the game. if you must wins the majority payments card points for the score is kept the bidder's table being team that if a tie for the players or team to nartive score of aces than the followe\n",
      "----- temperature: 1.0\n",
      "----- Generating with seed: \"if unsuccessful.solissimo. the bidder wins 16 unit\"\n",
      "if unsuccessful.solissimo. the bidder wins 16 unit.  the 1000 or fewer10 points, they mid only f all the next and tho up is made. the otherwhen value than 200.  -12 points each if one of 7+ card pointsking and 2 minus 100 for example carded to win anoapords ranksslos are refored as they bid to over of thetir an extra point for the game. 10 points by 9, count 6 points, minus 30, so the whone must take n morto of a name used. they took and the oddeclarer's table more than not many points at worth 10 for the game or more score 135 cards are then -red - were ridy  all the chapen bid wins the other players, did for a team's not co(ments canastra a\n",
      "----- temperature: 1.2\n",
      "----- Generating with seed: \"if unsuccessful.solissimo. the bidder wins 16 unit\"\n",
      "if unsuccessful.solissimo. the bidder wins 16 units. each of the trump ad+iws b, 4, they score their score and has dows. higher shoutking stricks basted, it.if a player    113ally prosits by 5 for twos as follows: after payments simple  for eace has the first team take more than 20 points. 1 this: 45 stricks, give 7, egust 4\" strokks have (wkofarloj, js: 25cael become plays a lost and achieve achieves-1 robbley tumned2cinestra (-re points are addeller, one stricks.  the numbers of the promoon complus 19 or 70, ans rounding twopplayer counts 100 point120 card points10 pointsno tricksall digase without full whe faceanoh all the trickswif bid mo\n",
      "707/707 [==============================] - 170s 240ms/step - loss: 0.9106\n",
      "Epoch 12/60\n",
      "707/707 [==============================] - ETA: 0s - loss: 0.8924****************************************************************************\n",
      "----- Generating text after Epoch: 11\n",
      "----- temperature: 0.2\n",
      "----- Generating with seed: \" solo wins all the tricks they score those 8 or 12\"\n",
      " solo wins all the tricks they score those 8 or 12 points. if they score the opponents that they score the declarer wins the game. if the declarer's team wins the game. if the opponents score the declarer wins the game. if the bidder players who took no tricks. if they score the declarer wins the game. if the declarer and the counts are as follows. the declarer wins the game. the winner of the bidder and the cards in their teams as the team with the exception. if the bidder is worth the team with the higher the bidder's score for the game is a reacher up the value of the cards in their teams as the trick as they score the losing team scores t\n",
      "----- temperature: 0.5\n",
      "----- Generating with seed: \" solo wins all the tricks they score those 8 or 12\"\n",
      " solo wins all the tricks they score those 8 or 12 points with a losing to the game.  the winner. in the majority of the bid is north, he opponents are made this count their cumulative score of the difference. if the team with the lower and the other team with the most points with the other than the declarer's the bidding team wins the game. if the round is no called a before the ace of the players arsecting the other team with the team with the other than they werd that the starter and the player scores the suit as the team scores the most spode this with net each hand the declarer wins the other player who take melds diamonds, the charless \n",
      "----- temperature: 1.0\n",
      "----- Generating with seed: \" solo wins all the tricks they score those 8 or 12\"\n",
      " solo wins all the tricks they score those 8 or 12 point for bids are negative8sereed to new there is no char\", if the game discare tricks. if they succeds and that the bidder. you won one of the 10 exsicid they took and for money calls 3 points, it is the most cards have. in player has payments are saids the losing total. these 8, he scores no percoring five tricks that they are exampones tricks. the opponents and    a player who did agree doubled it is admided in a ratemminal win 30 points hand to velles. west in caspach cass a capote, and the  your cumulati0nations. in this was lost in their player of the bidder declard by the game. succee\n",
      "----- temperature: 1.2\n",
      "----- Generating with seed: \" solo wins all the tricks they score those 8 or 12\"\n",
      " solo wins all the tricks they score those 8 or 12 trick are p. if there havinking (. simpey that the elas taking they eration the shoply 100 been worth them will. west winner - a rubbe. for famour 9 points. total the sumse sever a-99)'s. seither then meft tath, rounded count, the declarer's ride the number of counting team wins the value of the agree doubled for this player's partnership counts deal for is not meliesing arounded to each-d empert the player number that pack,  below because 1 trick, in and the melded undertrick, the of the one. this won one, an double the ace 3 sucgin, from each hand. epats -23100. loses up gets win, oth play \n",
      "707/707 [==============================] - 173s 245ms/step - loss: 0.8924\n",
      "Epoch 13/60\n",
      "304/707 [===========>..................] - ETA: 1:01 - loss: 0.8403"
     ]
    }
   ],
   "source": [
    "import logging, os\n",
    "logging.disable(logging.WARNING)\n",
    "os.environ[\"TF_CPP_MIN_LOG_LEVEL\"] = \"3\"\n",
    "\n",
    "# Fit the model\n",
    "print_callback = LambdaCallback(on_epoch_end=on_epoch_end)\n",
    "\n",
    "model.fit(x, y,\n",
    "          batch_size=BATCH_SIZE,\n",
    "          epochs=epochs,\n",
    "          callbacks=[print_callback])"
   ]
  },
  {
   "cell_type": "code",
   "execution_count": null,
   "metadata": {},
   "outputs": [],
   "source": []
  }
 ],
 "metadata": {
  "kernelspec": {
   "display_name": "Python 3",
   "language": "python",
   "name": "python3"
  },
  "language_info": {
   "codemirror_mode": {
    "name": "ipython",
    "version": 3
   },
   "file_extension": ".py",
   "mimetype": "text/x-python",
   "name": "python",
   "nbconvert_exporter": "python",
   "pygments_lexer": "ipython3",
   "version": "3.7.6"
  }
 },
 "nbformat": 4,
 "nbformat_minor": 4
}
