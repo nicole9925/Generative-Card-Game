{
 "cells": [
  {
   "cell_type": "code",
   "execution_count": 1,
   "metadata": {},
   "outputs": [],
   "source": [
    "from bs4 import BeautifulSoup\n",
    "import os\n",
    "import requests\n",
    "import re"
   ]
  },
  {
   "cell_type": "code",
   "execution_count": 6,
   "metadata": {},
   "outputs": [],
   "source": [
    "url = \"https://www.pagat.com/alpha/\"\n",
    "page = requests.get(url)"
   ]
  },
  {
   "cell_type": "code",
   "execution_count": 7,
   "metadata": {},
   "outputs": [
    {
     "data": {
      "text/plain": [
       "<Response [200]>"
      ]
     },
     "execution_count": 7,
     "metadata": {},
     "output_type": "execute_result"
    }
   ],
   "source": [
    "page"
   ]
  },
  {
   "cell_type": "code",
   "execution_count": 8,
   "metadata": {},
   "outputs": [],
   "source": [
    "soup = BeautifulSoup(page.text, 'lxml')"
   ]
  },
  {
   "cell_type": "code",
   "execution_count": 13,
   "metadata": {},
   "outputs": [],
   "source": [
    "rows = soup.find_all('tr')"
   ]
  },
  {
   "cell_type": "code",
   "execution_count": null,
   "metadata": {},
   "outputs": [],
   "source": []
  },
  {
   "cell_type": "code",
   "execution_count": null,
   "metadata": {},
   "outputs": [],
   "source": []
  },
  {
   "cell_type": "code",
   "execution_count": null,
   "metadata": {},
   "outputs": [],
   "source": []
  },
  {
   "cell_type": "code",
   "execution_count": null,
   "metadata": {},
   "outputs": [],
   "source": []
  },
  {
   "cell_type": "code",
   "execution_count": 137,
   "metadata": {},
   "outputs": [],
   "source": [
    "cards = 'French suited cards'\n",
    "letters = 'aletter'\n",
    "links = []\n",
    "for x in range(len(rows)):\n",
    "    if len(rows[x].find_all('a')) != 0:\n",
    "        if len(rows[x].find('td',{'class':'col3'}).find_all('span')) >= 1:\n",
    "            if rows[x].find('td',{'class':'col3'}).find('span').get('title') == cards:\n",
    "                link = rows[x].find('a').get('href')\n",
    "                link = url[0:-6] + link[3:]\n",
    "                links.append(re.sub('#.*','',link))"
   ]
  },
  {
   "cell_type": "code",
   "execution_count": 139,
   "metadata": {},
   "outputs": [],
   "source": [
    "compacted = (list(dict.fromkeys(links)))"
   ]
  },
  {
   "cell_type": "code",
   "execution_count": 141,
   "metadata": {},
   "outputs": [
    {
     "data": {
      "text/plain": [
       "'https://www.pagat.com/poker/variants/buyyourcard.html'"
      ]
     },
     "execution_count": 141,
     "metadata": {},
     "output_type": "execute_result"
    }
   ],
   "source": [
    "compacted[0]"
   ]
  },
  {
   "cell_type": "code",
   "execution_count": null,
   "metadata": {},
   "outputs": [],
   "source": []
  },
  {
   "cell_type": "code",
   "execution_count": 142,
   "metadata": {},
   "outputs": [],
   "source": [
    "games = []\n",
    "for x in range(len(compacted)):\n",
    "    link = compacted[x]\n",
    "    page = requests.get(link)\n",
    "    soup = BeautifulSoup(page.text, 'lxml')\n",
    "    body = soup.find('div',{'class':'mainContent clearfix'})\n",
    "    games.append(body)"
   ]
  },
  {
   "cell_type": "code",
   "execution_count": 108,
   "metadata": {},
   "outputs": [],
   "source": [
    "import pandas as pd"
   ]
  },
  {
   "cell_type": "code",
   "execution_count": 143,
   "metadata": {},
   "outputs": [],
   "source": [
    "data = pd.DataFrame(data = {'links':compacted,'text':games})"
   ]
  },
  {
   "cell_type": "code",
   "execution_count": 144,
   "metadata": {},
   "outputs": [],
   "source": [
    "data.to_csv('html games.csv', index = False)"
   ]
  },
  {
   "cell_type": "code",
   "execution_count": 145,
   "metadata": {},
   "outputs": [],
   "source": [
    "test = pd.read_csv('html games.csv')['text'][0]"
   ]
  },
  {
   "cell_type": "code",
   "execution_count": 146,
   "metadata": {},
   "outputs": [],
   "source": [
    "soup = BeautifulSoup(test, \"html.parser\")"
   ]
  },
  {
   "cell_type": "code",
   "execution_count": 147,
   "metadata": {},
   "outputs": [
    {
     "data": {
      "text/plain": [
       "'<div class=\"mainContent clearfix\">\\n<!-- InstanceBeginEditable name=\"MainContent\" -->\\n Buy Your Card Poker\\n<div class=\"tlcontents top3\">\\n\\n<a href=\"#introduction\">Introduction\\n<a href=\"#buyyourcard\">Buy Your Card / Substitution - <a href=\"#substitution\">Substitution\\n<a href=\"#abyssinia\">Abyssinia\\n<a href=\"#price\">The Price is Right\\n<a href=\"#auction\">Auction\\n<a href=\"#grocery\">Grocery Store Dots\\n<a href=\"#wall_street\">Wall Street\\n\\n</div>\\n<h2 id=\"introduction\">Introduction\\nThis is a collection of stud poker variants in which a player can buy cards to improve his or her hand by paying extra chips to the pot. The chips paid for a card are not bets in the ordinary sense: they do not have to be matched or called by the other players. They are fixed prices, paid by a player to the pot, over and above the normal betting process.\\n<h2 id=\"buyyourcard\">Buy Your Card / Substitution\\nIn this variant players can pay to exchange cards for better ones. The maximum number of players is six.\\nThe players ante and the dealer deals five cards to each player: two face down and three face up. Players look at their face-down cards. The dealer deals a row of three more cards face up and places the undealt deck face down at the end of the row. The face-up card furthest from the deck costs 1 unit, the middle face-up card 2 units, the card next to the deck 3 units and the unknown top card of the deck 4 units, where 1 unit is equal to the ante and the minimum bet.\\nThis is a high-low game with declaration. There are three rounds of buying, each followed by a round of betting.\\nA buying round begins with the first active player to the left of the dealer and goes once around the table clockwise. At your turn you have three options:\\n\\n<strong>Buy a card.</strong> You discard one card from your hand and buy one of the four cards on offer to replace it, paying the appropriate amount to the pot. If you buy the top card of the face down deck, you look at it but keep it face down, even if you are replacing a face-up card. If you buy a face-up card you keep it face up if it replaces a face-up card from your hand, but turn it face down if it replaces one of your hole cards (even though the other players in fact know what it is). Players should always have at least two cards face-down and may have more.\\n<strong>Stand pat.</strong> You buy no card and keep your hand as it is.\\n<strong>Fold.</strong> You throw away your cards face down and take no more part in the hand. There is not really any point in doing this, since you could equally well fold in the following betting round.\\n\\nWhen a face-up card is bought, the dealer replaces it with a new face-up card which will be offered at the same price. If the last player in a buying round buys a face-up card, it is not replaced until <strong>after</strong> the ensuing betting round.\\nThe betting round that follows each buying round is begun by the player who at that time has the best hand showing.\\nAfter the third and last betting round the surviving players declare high, low or both before the showdown.\\n<h3 id=\"substitution\">Substitution\\nIn this variant, playable by up to 10 players, cards are not offered for sale but simply dealt to the players. As in Buy Your Card / Substitution each player is dealt two hole cards and three up cards, and there are three rounds of substitution, each followed by a betting round.\\nIn a substitution round, each player in turn either stands pat or discards a card and is dealt a replacement card. If a hole card is discarded the replacement is dealt face down; if a face-up card is discarded, it is replaced by a new card dealt face up. Each betting round is begun by the player with the highest hand showing.\\nSurviving players declare high, low or both before the showdown.\\n<h2 id=\"abyssinia\">Abyssinia\\nIn this five card stud high-low variant players start with no cards and buy known or unknown cards to form their hand.\\nThe players place their ante and the dealer turns up two cards and places them one each side of the face down deck. Starting with the player to dealer\\'s left, each player in turn may choose to buy either one of the face up cards or the unknown top card of the face down deck. The price depends on the ran of the card - for example 2-5: 2 units, 6-K: 1 unit, ace: 4 units. If a card is bought from the deck it is dealt face up so that its price can be paid. After a face up card is bought, the top card of the deck is turned face up to replace it.\\n After everyone has bought their first card there is a round of betting, begun by the player to dealer\\'s left. The process is repeated four more times, so that each player who has not folded has five cards. The highest and lowest hands split the pot. \\nThis game could be played with all players\\' hands face up throughout, since in theory everyone knows what cards everyone has. Alternatively the players can pick up the cards as they buy them and hold them as a concealed hand. In this case the  fifth round of buying cards could be followed by a final betting round and declaration of high, low or both, though if the players have perfect memories they will already know who has won.    \\n<h2 id=\"price\">The Price is Right\\nThis is a seven-card stud high-low game for three to seven players in which everyone starts with two down-cards and buys the remainder.\\nAfter players have placed their ante, the dealer deals two cards face down to each player: players may look at their cards. The dealer places  two cards face up on the table side by side with the face-down deck next to them. The upcard further from the deck costs 1 unit, the upcard nearer the deck costs 2 units and the unknown top card of the deck costs three units.\\nEach player in turn, beginning with the player to the dealer\\'s left, must either fold or  purchase \\tone of the three cards on offer. Face-up cards remain face up; if the top card of the deck is bought, the buyer looks at it and keeps it face down, unknown to the other players. If the cheaper face-up card is bought, the dearer card slides over to replace it and a new card is turned up for the 2-unit position. If the dearer face-up card is bought it is replaced by turning up the top card of the deck. After everyone has had the chance to buy, there is a round of betting begun by the player with the best hand showing. \\nThis is repeated until the final round of betting when everyone has seven cards. The players then declare high low or both and there is a showdown.\\n<strong>Variation:</strong> this game can be played with three upcards costing 1, 2 and 3 units and the face down card costing 4.\\n<h2 id=\"auction\">Auction\\nThis is another seven-card high-low game. After antes are placed the dealer deals two cards face down to each player, which they may look at.\\nThe dealer now deals face up to the table as many cards as there are players. Everyone simultaneously chooses how much to bid and holds that value of chips in a closed fist. Everyone must bid at least the amount of the minimum bet, and a maximum bid may also be agreed. On a signal from the delaer all players open their hands and reveal their bids. The player who bid highest chooses one of the face up cards and adds it to his or her hand face up; then the next highest bidder does the same and so on, the lowest bidder getting the last card. In case of a tie, the player with the higher poker hand showing goes first; if the hands are also equal, the player nearer to dealer\\'s left has priority. All the bids are added to the pot. \\nThis procedure is repeated four more times. When everyone has seven cards, there is a betting round. The surviving players then declare high, low or both and there is a showdown.\\n<h2 id=\"grocery\">Grocery Store Dots\\nThis is a seven-card stud game. \"Dots\" are the pips in the centre column of each card: aces, fives, sevens and nines have one dot; twos, eights and tens have 2 dots, threes have three dots and fours, sixes and picture cards have no dots. The pot is split between the highest five-card hand and the player whose seven cards have most dots.\\nAfter everyone has placed their ante, the dealer deals two hole cards and one upcard to each player as in seven-card stud, and the first betting round takes place. \\nThe dealer then sets out the \"grocery store\" consisting of a row of three face up cards on the table, and marks the leftmost card by placing a chip or other marker on it. This card costs 1 unit, the card next to it 2 units and the third card 3 units. From now on, a player who is about to be dealt a card from the deck has the option to buy a card from the grocery store instead, placing the appropriate price in chips in the pot. A player who chooses not to buy is dealt a card from the deck as normal. \\nIf a card is bought, the store is restocked from the deck <strong>immediately before</strong> the next purchase decision. That means that if the dealer buys a card, the store is not restocked until after the betting round that follows.\\nWhen everyone has four upcards the remaining store stock is discarded, After the betting round, a final card is dealt to each player face down, and there is a final betting round foolowed by a showdown in which the high hand and the player with most dots split the pot.\\n<h2 id=\"wall_street\">Wall Street\\nThis seven card stud game is similar to <a href=\"#price\">The Price is Right, with the difference that there are four face up cards on sale, and a player who does not wish to buy any of them is dealt a free card face up from the deck.\\nThe dealer deals two cards face down and one face up  to each player, and a row of  four cards \\tface up to the table. These cards are called Wall Street, and the card at one end of the row is marked with a chip. There is a round of betting, begun by the player with the highest card showing.\\nNow each player in turn starting to dealer\\'s left acquires another upcard. The card can be bought from Wall Street: the card marked with a chip costs 1 unit and the others cost 2, 3 and 4 units respectively. The price is paid to the pot. A player does not want to buy from Wall Street is dealt a card face up from the deck. Immediately before each purchase decision, any empty position in Wall Street is filled by dealing a new card from the deck. After everyone has their new card there is a betting round, begun by the player with the highest hand showing. Note that if the last player bought from Wall Street, there will only be three cards showing during the betting round, since Wall Street is not replenished until the beginning of the next buying round.\\nThe process is repeated two more times, so that everyone has four up cards. The unsold Wall Street stock is then discarded. After the ensuing betting round a card is dealt face down to each player. There is a then final betting round after which players declare high, low or both and the high and low winners split the pot.  \\n<!-- InstanceEndEditable -->\\n<!-- end #mainContent --></div>'"
      ]
     },
     "execution_count": 147,
     "metadata": {},
     "output_type": "execute_result"
    }
   ],
   "source": [
    "re.sub('<.{0,3}>','',test)"
   ]
  },
  {
   "cell_type": "code",
   "execution_count": 150,
   "metadata": {},
   "outputs": [
    {
     "data": {
      "text/plain": [
       "0      https://www.pagat.com/poker/variants/buyyourca...\n",
       "1                 https://www.pagat.com/rummy/crazy.html\n",
       "2      https://www.pagat.com/poker/variants/lowball.html\n",
       "3        https://www.pagat.com/poker/variants/7stud.html\n",
       "4      https://www.pagat.com/patience/california_spee...\n",
       "                             ...                        \n",
       "417            https://www.pagat.com/schafkopf/zole.html\n",
       "418                https://www.pagat.com/rams/20_ab.html\n",
       "419           https://www.pagat.com/fishing/zwicker.html\n",
       "420             https://www.pagat.com/misc/52pickup.html\n",
       "421              https://www.pagat.com/marriage/501.html\n",
       "Name: links, Length: 422, dtype: object"
      ]
     },
     "execution_count": 150,
     "metadata": {},
     "output_type": "execute_result"
    }
   ],
   "source": [
    "pd.read_csv('html games.csv')['links']"
   ]
  },
  {
   "cell_type": "code",
   "execution_count": null,
   "metadata": {},
   "outputs": [],
   "source": []
  },
  {
   "cell_type": "code",
   "execution_count": null,
   "metadata": {},
   "outputs": [],
   "source": []
  }
 ],
 "metadata": {
  "kernelspec": {
   "display_name": "Python 3",
   "language": "python",
   "name": "python3"
  },
  "language_info": {
   "codemirror_mode": {
    "name": "ipython",
    "version": 3
   },
   "file_extension": ".py",
   "mimetype": "text/x-python",
   "name": "python",
   "nbconvert_exporter": "python",
   "pygments_lexer": "ipython3",
   "version": "3.7.6"
  }
 },
 "nbformat": 4,
 "nbformat_minor": 4
}
